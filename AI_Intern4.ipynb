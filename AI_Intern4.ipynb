{
  "nbformat": 4,
  "nbformat_minor": 0,
  "metadata": {
    "colab": {
      "provenance": [],
      "authorship_tag": "ABX9TyPG3rHHV83JJH0pBl96HGb/",
      "include_colab_link": true
    },
    "kernelspec": {
      "name": "python3",
      "display_name": "Python 3"
    },
    "language_info": {
      "name": "python"
    }
  },
  "cells": [
    {
      "cell_type": "markdown",
      "metadata": {
        "id": "view-in-github",
        "colab_type": "text"
      },
      "source": [
        "<a href=\"https://colab.research.google.com/github/VihaShahh/AI_Intern/blob/main/AI_Intern4.ipynb\" target=\"_parent\"><img src=\"https://colab.research.google.com/assets/colab-badge.svg\" alt=\"Open In Colab\"/></a>"
      ]
    },
    {
      "cell_type": "code",
      "execution_count": 2,
      "metadata": {
        "colab": {
          "base_uri": "https://localhost:8080/"
        },
        "id": "8Pm73II85t4y",
        "outputId": "7b024212-2df0-43ba-b706-57d103a54bb4"
      },
      "outputs": [
        {
          "output_type": "stream",
          "name": "stdout",
          "text": [
            "All rows from sample_data.csv have been processed and saved to updated_bbuddy.csv.\n"
          ]
        }
      ],
      "source": [
        "import pandas as pd\n",
        "\n",
        "sample_df = pd.read_csv('sample_data.csv')\n",
        "bbuddy_df = pd.read_csv('bistrobuddy_business.csv')\n",
        "\n",
        "\n",
        "bbuddy_expanded = pd.DataFrame(columns=bbuddy_df.columns, index=sample_df.index)\n",
        "\n",
        "column_mappings = {\n",
        "    'Name': 'name',\n",
        "    'Website': 'website',\n",
        "    'Full_Address': 'address',\n",
        "    'City': 'city',\n",
        "    'State': 'province',\n",
        "    'Zip': 'postal_code',\n",
        "    'Phone': 'phone',\n",
        "    'Email': 'email',\n",
        "    'Facebook': 'facebook',\n",
        "    'Twitter': 'twitter',\n",
        "    'Instagram': 'instagram',\n",
        "    'Youtube': 'youtube',\n",
        "    'LinkedIn': 'linkedin',\n",
        "    'Lat': 'latitude',\n",
        "    'Lng': 'longitude',\n",
        "    'Description': 'description',\n",
        "    'Category': 'categories'\n",
        "}\n",
        "\n",
        "\n",
        "for sample_col, bbuddy_col in column_mappings.items():\n",
        "    if sample_col in sample_df.columns and bbuddy_col in bbuddy_expanded.columns:\n",
        "        bbuddy_expanded[bbuddy_col] = sample_df[sample_col]\n",
        "    else:\n",
        "        bbuddy_expanded[bbuddy_col] = ''\n",
        "\n",
        "\n",
        "bbuddy_expanded.to_csv('updated_bbuddy.csv', index=False)\n",
        "\n",
        "print(\"processed data from sample_data.csv saved to updated_bbuddy.csv.\")\n"
      ]
    }
  ]
}