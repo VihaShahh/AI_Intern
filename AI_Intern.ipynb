{
  "nbformat": 4,
  "nbformat_minor": 0,
  "metadata": {
    "colab": {
      "provenance": [],
      "authorship_tag": "ABX9TyOZSDrxKfdpfytaWpTiaAD7",
      "include_colab_link": true
    },
    "kernelspec": {
      "name": "python3",
      "display_name": "Python 3"
    },
    "language_info": {
      "name": "python"
    }
  },
  "cells": [
    {
      "cell_type": "markdown",
      "metadata": {
        "id": "view-in-github",
        "colab_type": "text"
      },
      "source": [
        "<a href=\"https://colab.research.google.com/github/VihaShahh/AI_Intern/blob/main/AI_Intern.ipynb\" target=\"_parent\"><img src=\"https://colab.research.google.com/assets/colab-badge.svg\" alt=\"Open In Colab\"/></a>"
      ]
    },
    {
      "cell_type": "code",
      "source": [
        "pip install googletrans==4.0.0-rc1"
      ],
      "metadata": {
        "colab": {
          "base_uri": "https://localhost:8080/"
        },
        "id": "198y2bXOB8fi",
        "outputId": "bc7605dc-7357-4d1d-8d49-12ee355b3cfe"
      },
      "execution_count": 1,
      "outputs": [
        {
          "output_type": "stream",
          "name": "stdout",
          "text": [
            "Collecting googletrans==4.0.0-rc1\n",
            "  Downloading googletrans-4.0.0rc1.tar.gz (20 kB)\n",
            "  Preparing metadata (setup.py) ... \u001b[?25l\u001b[?25hdone\n",
            "Collecting httpx==0.13.3 (from googletrans==4.0.0-rc1)\n",
            "  Downloading httpx-0.13.3-py3-none-any.whl.metadata (25 kB)\n",
            "Requirement already satisfied: certifi in /usr/local/lib/python3.10/dist-packages (from httpx==0.13.3->googletrans==4.0.0-rc1) (2024.8.30)\n",
            "Collecting hstspreload (from httpx==0.13.3->googletrans==4.0.0-rc1)\n",
            "  Downloading hstspreload-2024.9.1-py3-none-any.whl.metadata (2.1 kB)\n",
            "Requirement already satisfied: sniffio in /usr/local/lib/python3.10/dist-packages (from httpx==0.13.3->googletrans==4.0.0-rc1) (1.3.1)\n",
            "Collecting chardet==3.* (from httpx==0.13.3->googletrans==4.0.0-rc1)\n",
            "  Downloading chardet-3.0.4-py2.py3-none-any.whl.metadata (3.2 kB)\n",
            "Collecting idna==2.* (from httpx==0.13.3->googletrans==4.0.0-rc1)\n",
            "  Downloading idna-2.10-py2.py3-none-any.whl.metadata (9.1 kB)\n",
            "Collecting rfc3986<2,>=1.3 (from httpx==0.13.3->googletrans==4.0.0-rc1)\n",
            "  Downloading rfc3986-1.5.0-py2.py3-none-any.whl.metadata (6.5 kB)\n",
            "Collecting httpcore==0.9.* (from httpx==0.13.3->googletrans==4.0.0-rc1)\n",
            "  Downloading httpcore-0.9.1-py3-none-any.whl.metadata (4.6 kB)\n",
            "Collecting h11<0.10,>=0.8 (from httpcore==0.9.*->httpx==0.13.3->googletrans==4.0.0-rc1)\n",
            "  Downloading h11-0.9.0-py2.py3-none-any.whl.metadata (8.1 kB)\n",
            "Collecting h2==3.* (from httpcore==0.9.*->httpx==0.13.3->googletrans==4.0.0-rc1)\n",
            "  Downloading h2-3.2.0-py2.py3-none-any.whl.metadata (32 kB)\n",
            "Collecting hyperframe<6,>=5.2.0 (from h2==3.*->httpcore==0.9.*->httpx==0.13.3->googletrans==4.0.0-rc1)\n",
            "  Downloading hyperframe-5.2.0-py2.py3-none-any.whl.metadata (7.2 kB)\n",
            "Collecting hpack<4,>=3.0 (from h2==3.*->httpcore==0.9.*->httpx==0.13.3->googletrans==4.0.0-rc1)\n",
            "  Downloading hpack-3.0.0-py2.py3-none-any.whl.metadata (7.0 kB)\n",
            "Downloading httpx-0.13.3-py3-none-any.whl (55 kB)\n",
            "\u001b[2K   \u001b[90m━━━━━━━━━━━━━━━━━━━━━━━━━━━━━━━━━━━━━━━━\u001b[0m \u001b[32m55.1/55.1 kB\u001b[0m \u001b[31m3.1 MB/s\u001b[0m eta \u001b[36m0:00:00\u001b[0m\n",
            "\u001b[?25hDownloading chardet-3.0.4-py2.py3-none-any.whl (133 kB)\n",
            "\u001b[2K   \u001b[90m━━━━━━━━━━━━━━━━━━━━━━━━━━━━━━━━━━━━━━━━\u001b[0m \u001b[32m133.4/133.4 kB\u001b[0m \u001b[31m6.8 MB/s\u001b[0m eta \u001b[36m0:00:00\u001b[0m\n",
            "\u001b[?25hDownloading httpcore-0.9.1-py3-none-any.whl (42 kB)\n",
            "\u001b[2K   \u001b[90m━━━━━━━━━━━━━━━━━━━━━━━━━━━━━━━━━━━━━━━━\u001b[0m \u001b[32m42.6/42.6 kB\u001b[0m \u001b[31m2.6 MB/s\u001b[0m eta \u001b[36m0:00:00\u001b[0m\n",
            "\u001b[?25hDownloading idna-2.10-py2.py3-none-any.whl (58 kB)\n",
            "\u001b[2K   \u001b[90m━━━━━━━━━━━━━━━━━━━━━━━━━━━━━━━━━━━━━━━━\u001b[0m \u001b[32m58.8/58.8 kB\u001b[0m \u001b[31m3.8 MB/s\u001b[0m eta \u001b[36m0:00:00\u001b[0m\n",
            "\u001b[?25hDownloading h2-3.2.0-py2.py3-none-any.whl (65 kB)\n",
            "\u001b[2K   \u001b[90m━━━━━━━━━━━━━━━━━━━━━━━━━━━━━━━━━━━━━━━━\u001b[0m \u001b[32m65.0/65.0 kB\u001b[0m \u001b[31m3.8 MB/s\u001b[0m eta \u001b[36m0:00:00\u001b[0m\n",
            "\u001b[?25hDownloading rfc3986-1.5.0-py2.py3-none-any.whl (31 kB)\n",
            "Downloading hstspreload-2024.9.1-py3-none-any.whl (1.2 MB)\n",
            "\u001b[2K   \u001b[90m━━━━━━━━━━━━━━━━━━━━━━━━━━━━━━━━━━━━━━━━\u001b[0m \u001b[32m1.2/1.2 MB\u001b[0m \u001b[31m29.6 MB/s\u001b[0m eta \u001b[36m0:00:00\u001b[0m\n",
            "\u001b[?25hDownloading h11-0.9.0-py2.py3-none-any.whl (53 kB)\n",
            "\u001b[2K   \u001b[90m━━━━━━━━━━━━━━━━━━━━━━━━━━━━━━━━━━━━━━━━\u001b[0m \u001b[32m53.6/53.6 kB\u001b[0m \u001b[31m2.9 MB/s\u001b[0m eta \u001b[36m0:00:00\u001b[0m\n",
            "\u001b[?25hDownloading hpack-3.0.0-py2.py3-none-any.whl (38 kB)\n",
            "Downloading hyperframe-5.2.0-py2.py3-none-any.whl (12 kB)\n",
            "Building wheels for collected packages: googletrans\n",
            "  Building wheel for googletrans (setup.py) ... \u001b[?25l\u001b[?25hdone\n",
            "  Created wheel for googletrans: filename=googletrans-4.0.0rc1-py3-none-any.whl size=17397 sha256=5a02b1a11786476260dc6723633952a95a9711b3748772260c1721b8bae1a463\n",
            "  Stored in directory: /root/.cache/pip/wheels/c0/59/9f/7372f0cf70160fe61b528532e1a7c8498c4becd6bcffb022de\n",
            "Successfully built googletrans\n",
            "Installing collected packages: rfc3986, hyperframe, hpack, h11, chardet, idna, hstspreload, h2, httpcore, httpx, googletrans\n",
            "  Attempting uninstall: chardet\n",
            "    Found existing installation: chardet 5.2.0\n",
            "    Uninstalling chardet-5.2.0:\n",
            "      Successfully uninstalled chardet-5.2.0\n",
            "  Attempting uninstall: idna\n",
            "    Found existing installation: idna 3.10\n",
            "    Uninstalling idna-3.10:\n",
            "      Successfully uninstalled idna-3.10\n",
            "Successfully installed chardet-3.0.4 googletrans-4.0.0rc1 h11-0.9.0 h2-3.2.0 hpack-3.0.0 hstspreload-2024.9.1 httpcore-0.9.1 httpx-0.13.3 hyperframe-5.2.0 idna-2.10 rfc3986-1.5.0\n"
          ]
        }
      ]
    },
    {
      "cell_type": "code",
      "execution_count": 2,
      "metadata": {
        "colab": {
          "base_uri": "https://localhost:8080/"
        },
        "id": "pr1Fr-nsBhBW",
        "outputId": "1d3ced62-b28c-4258-e36e-4733fc0d1c25"
      },
      "outputs": [
        {
          "output_type": "stream",
          "name": "stdout",
          "text": [
            "Data has been transformed and saved in chunks.\n"
          ]
        }
      ],
      "source": [
        "import pandas as pd\n",
        "import numpy as np\n",
        "from googletrans import Translator\n",
        "import os\n",
        "\n",
        "input_file = '/content/sampleeee_data.csv'\n",
        "data = pd.read_csv(input_file)\n",
        "\n",
        "translator = Translator()\n",
        "\n",
        "def translate(text, language):\n",
        "    try:\n",
        "        translated = translator.translate(text, dest=language)\n",
        "        return translated.text\n",
        "    except Exception as e:\n",
        "        print(\"Translation error\")\n",
        "        return text\n",
        "\n",
        "def transform_row(row):\n",
        "    return {\n",
        "        'Meta Title': f\"{row['Name']} - Best Restaurant in {row['City']}\",\n",
        "        'Meta Description': f\"Discover {row['Name']} in {row['City']}. {row['Description']}\",\n",
        "        'Meta Title (EN)': translate(f\"{row['Name']} - Best Restaurant in {row['City']}\", 'en'),\n",
        "        'Meta Title (ES)': translate(f\"{row['Name']} - Best Restaurant in {row['City']}\", 'es'),\n",
        "        'Meta Title (FR)': translate(f\"{row['Name']} - Best Restaurant in {row['City']}\", 'fr'),\n",
        "        'Meta Title (DE)': translate(f\"{row['Name']} - Best Restaurant in {row['City']}\", 'de'),\n",
        "        'Meta Title (IT)': translate(f\"{row['Name']} - Best Restaurant in {row['City']}\", 'it'),\n",
        "        'Meta Title (PT)': translate(f\"{row['Name']} - Best Restaurant in {row['City']}\", 'pt'),\n",
        "        'Meta Description (EN)': translate(f\"Discover {row['Name']} in {row['City']}. {row['Description']}\", 'en'),\n",
        "        'Meta Description (ES)': translate(f\"Discover {row['Name']} in {row['City']}. {row['Description']}\", 'es'),\n",
        "        'Meta Description (FR)': translate(f\"Discover {row['Name']} in {row['City']}. {row['Description']}\", 'fr'),\n",
        "        'Meta Description (DE)': translate(f\"Discover {row['Name']} in {row['City']}. {row['Description']}\", 'de'),\n",
        "        'Meta Description (IT)': translate(f\"Discover {row['Name']} in {row['City']}. {row['Description']}\", 'it'),\n",
        "        'Meta Description (PT)': translate(f\"Discover {row['Name']} in {row['City']}. {row['Description']}\", 'pt'),\n",
        "        'establishment_year': '',\n",
        "        'employees': '',\n",
        "        'min_project_size': '',\n",
        "        'hourly_rate': '',\n",
        "        'website': row['Website'],\n",
        "        'type': '',  # Fill in if needed\n",
        "        'keywords': '',  # Fill in if needed\n",
        "        'slogan': '',  # Fill in if needed\n",
        "        'short_description': row['Description'],\n",
        "        'description': row['Summary'],\n",
        "        'categories': '',  # Fill in if needed\n",
        "        'address': row['Full_Address'],\n",
        "        'city': row['City'],\n",
        "        'province': row['State'],\n",
        "        'postal_code': row['Zip'],\n",
        "        'latitude': row['Lat'],\n",
        "        'longitude': row['Lng'],\n",
        "    }\n",
        "\n",
        "transformed_data = data.apply(transform_row, axis=1)\n",
        "\n",
        "chunk_size = 98\n",
        "num_chunks = np.ceil(len(transformed_data) / chunk_size).astype(int)\n",
        "\n",
        "for i in range(num_chunks):\n",
        "    chunk = transformed_data[i * chunk_size:(i + 1) * chunk_size]\n",
        "    output_file = f'/content/sample_data/bistrobuddy_business_listing_part_{i + 1}.csv'\n",
        "    chunk.to_csv(output_file, index=False)\n",
        "\n",
        "print(\" The data has been transformed and saved in chunks.\")\n"
      ]
    },
    {
      "cell_type": "code",
      "source": [],
      "metadata": {
        "id": "4hAWFFdoE4FA"
      },
      "execution_count": null,
      "outputs": []
    }
  ]
}