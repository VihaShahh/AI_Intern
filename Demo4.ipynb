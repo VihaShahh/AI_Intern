{
  "nbformat": 4,
  "nbformat_minor": 0,
  "metadata": {
    "colab": {
      "provenance": [],
      "authorship_tag": "ABX9TyNeU8WkHlCfpI1+R+nebKM8",
      "include_colab_link": true
    },
    "kernelspec": {
      "name": "python3",
      "display_name": "Python 3"
    },
    "language_info": {
      "name": "python"
    }
  },
  "cells": [
    {
      "cell_type": "markdown",
      "metadata": {
        "id": "view-in-github",
        "colab_type": "text"
      },
      "source": [
        "<a href=\"https://colab.research.google.com/github/VihaShahh/AI_Intern/blob/main/Demo4.ipynb\" target=\"_parent\"><img src=\"https://colab.research.google.com/assets/colab-badge.svg\" alt=\"Open In Colab\"/></a>"
      ]
    },
    {
      "cell_type": "code",
      "source": [
        "pip install qai-hub"
      ],
      "metadata": {
        "colab": {
          "base_uri": "https://localhost:8080/"
        },
        "id": "PH1v_AQ3IbzF",
        "outputId": "593fb83d-9c4f-4847-bb4f-ff34aa4ee79b"
      },
      "execution_count": null,
      "outputs": [
        {
          "output_type": "stream",
          "name": "stdout",
          "text": [
            "Requirement already satisfied: qai-hub in /usr/local/lib/python3.10/dist-packages (0.14.1)\n",
            "Requirement already satisfied: backoff>=2.2 in /usr/local/lib/python3.10/dist-packages (from qai-hub) (2.2.1)\n",
            "Requirement already satisfied: deprecation in /usr/local/lib/python3.10/dist-packages (from qai-hub) (2.1.0)\n",
            "Requirement already satisfied: h5py<4,>=2.10.0 in /usr/local/lib/python3.10/dist-packages (from qai-hub) (3.11.0)\n",
            "Requirement already satisfied: numpy<2,>=1.22.0 in /usr/local/lib/python3.10/dist-packages (from qai-hub) (1.23.1)\n",
            "Requirement already satisfied: packaging>=20.0 in /usr/local/lib/python3.10/dist-packages (from qai-hub) (23.2)\n",
            "Requirement already satisfied: prettytable>=3.9.0 in /usr/local/lib/python3.10/dist-packages (from qai-hub) (3.9.0)\n",
            "Requirement already satisfied: protobuf<4,>=3.20 in /usr/local/lib/python3.10/dist-packages (from qai-hub) (3.20.2)\n",
            "Requirement already satisfied: requests in /usr/local/lib/python3.10/dist-packages (from qai-hub) (2.32.3)\n",
            "Requirement already satisfied: requests-toolbelt in /usr/local/lib/python3.10/dist-packages (from qai-hub) (1.0.0)\n",
            "Requirement already satisfied: semver>=3.0 in /usr/local/lib/python3.10/dist-packages (from qai-hub) (3.0.2)\n",
            "Requirement already satisfied: tqdm in /usr/local/lib/python3.10/dist-packages (from qai-hub) (4.66.2)\n",
            "Requirement already satisfied: wcwidth in /usr/local/lib/python3.10/dist-packages (from prettytable>=3.9.0->qai-hub) (0.2.13)\n",
            "Requirement already satisfied: charset-normalizer<4,>=2 in /usr/local/lib/python3.10/dist-packages (from requests->qai-hub) (3.3.2)\n",
            "Requirement already satisfied: idna<4,>=2.5 in /usr/local/lib/python3.10/dist-packages (from requests->qai-hub) (3.7)\n",
            "Requirement already satisfied: urllib3<3,>=1.21.1 in /usr/local/lib/python3.10/dist-packages (from requests->qai-hub) (1.26.18)\n",
            "Requirement already satisfied: certifi>=2017.4.17 in /usr/local/lib/python3.10/dist-packages (from requests->qai-hub) (2024.7.4)\n"
          ]
        }
      ]
    },
    {
      "cell_type": "code",
      "source": [
        "!qai-hub configure --api_token 0bb7132654e37c476ab0375cc94e60a29def126b"
      ],
      "metadata": {
        "colab": {
          "base_uri": "https://localhost:8080/"
        },
        "id": "eFUXlbE0JRwf",
        "outputId": "3365e47f-c0db-4d09-df0a-23c1680ba9ed"
      },
      "execution_count": null,
      "outputs": [
        {
          "output_type": "stream",
          "name": "stdout",
          "text": [
            "qai-hub configuration saved to /root/.qai_hub/client.ini\n",
            "==================== /root/.qai_hub/client.ini ====================\n",
            "[api]\n",
            "api_token = 0bb7132654e37c476ab0375cc94e60a29def126b\n",
            "api_url = https://app.aihub.qualcomm.com\n",
            "web_url = https://app.aihub.qualcomm.com\n",
            "verbose = True\n",
            "\n",
            "\n"
          ]
        }
      ]
    },
    {
      "cell_type": "code",
      "source": [
        "!qai-hub list-devices"
      ],
      "metadata": {
        "colab": {
          "base_uri": "https://localhost:8080/"
        },
        "id": "Hp_wBRtFJmrR",
        "outputId": "d5be5af4-12dd-4b85-bfc1-f2238f1ba544"
      },
      "execution_count": null,
      "outputs": [
        {
          "output_type": "stream",
          "name": "stdout",
          "text": [
            "+-------------------------------+------------+----------+---------+---------------------------------------+---------------------------------------------------------+\n",
            "|             Device            |     OS     |  Vendor  |   Type  |                Chipset                |                      CLI Invocation                     |\n",
            "+-------------------------------+------------+----------+---------+---------------------------------------+---------------------------------------------------------+\n",
            "|    Google Pixel 3 (Family)    | Android 10 |  Google  |  Phone  |    qualcomm-snapdragon-845, sdm845    |    --device \"Google Pixel 3 (Family)\" --device-os 10    |\n",
            "|         Google Pixel 3        | Android 10 |  Google  |  Phone  |    qualcomm-snapdragon-845, sdm845    |         --device \"Google Pixel 3\" --device-os 10        |\n",
            "|        Google Pixel 3a        | Android 10 |  Google  |  Phone  |    qualcomm-snapdragon-670, sdm670    |        --device \"Google Pixel 3a\" --device-os 10        |\n",
            "|       Google Pixel 3 XL       | Android 10 |  Google  |  Phone  |    qualcomm-snapdragon-845, sdm845    |       --device \"Google Pixel 3 XL\" --device-os 10       |\n",
            "|         Google Pixel 4        | Android 10 |  Google  |  Phone  |    qualcomm-snapdragon-855, sm8150    |         --device \"Google Pixel 4\" --device-os 10        |\n",
            "|         Google Pixel 4        | Android 11 |  Google  |  Phone  |    qualcomm-snapdragon-855, sm8150    |         --device \"Google Pixel 4\" --device-os 11        |\n",
            "|        Google Pixel 4a        | Android 11 |  Google  |  Phone  |  qualcomm-snapdragon-730g, sm7150-ab  |        --device \"Google Pixel 4a\" --device-os 11        |\n",
            "|         Google Pixel 5        | Android 11 |  Google  |  Phone  |    qualcomm-snapdragon-765g, sm7250   |         --device \"Google Pixel 5\" --device-os 11        |\n",
            "|     Samsung Galaxy Tab S7     | Android 11 | Samsung  |  Tablet |  qualcomm-snapdragon-865+, sm8250-ab  |     --device \"Samsung Galaxy Tab S7\" --device-os 11     |\n",
            "|  Samsung Galaxy Tab A8 (2021) | Android 11 | Samsung  |  Tablet |    qualcomm-snapdragon-429, sdm429    |  --device \"Samsung Galaxy Tab A8 (2021)\" --device-os 11 |\n",
            "| Samsung Galaxy Note 20 (Intl) | Android 11 | Samsung  |  Phone  |           samsung-exynos-990          | --device \"Samsung Galaxy Note 20 (Intl)\" --device-os 11 |\n",
            "|  Samsung Galaxy S21 (Family)  | Android 11 | Samsung  |  Phone  |    qualcomm-snapdragon-888, sm8350    |  --device \"Samsung Galaxy S21 (Family)\" --device-os 11  |\n",
            "|       Samsung Galaxy S21      | Android 11 | Samsung  |  Phone  |    qualcomm-snapdragon-888, sm8350    |       --device \"Samsung Galaxy S21\" --device-os 11      |\n",
            "|      Samsung Galaxy S21+      | Android 11 | Samsung  |  Phone  |    qualcomm-snapdragon-888, sm8350    |      --device \"Samsung Galaxy S21+\" --device-os 11      |\n",
            "|    Samsung Galaxy S21 Ultra   | Android 11 | Samsung  |  Phone  |    qualcomm-snapdragon-888, sm8350    |    --device \"Samsung Galaxy S21 Ultra\" --device-os 11   |\n",
            "|    Xiaomi Redmi Note 10 5G    | Android 11 | Oneplus  |  Phone  |   qualcomm-snapdragon-678, sm6150-ac  |    --device \"Xiaomi Redmi Note 10 5G\" --device-os 11    |\n",
            "|       Google Pixel 3a XL      | Android 12 |  Google  |  Phone  |    qualcomm-snapdragon-670, sdm670    |       --device \"Google Pixel 3a XL\" --device-os 12      |\n",
            "|        Google Pixel 4a        | Android 12 |  Google  |  Phone  |  qualcomm-snapdragon-730g, sm7150-ab  |        --device \"Google Pixel 4a\" --device-os 12        |\n",
            "|    Google Pixel 5 (Family)    | Android 12 |  Google  |  Phone  |    qualcomm-snapdragon-765g, sm7250   |    --device \"Google Pixel 5 (Family)\" --device-os 12    |\n",
            "|         Google Pixel 5        | Android 12 |  Google  |  Phone  |    qualcomm-snapdragon-765g, sm7250   |         --device \"Google Pixel 5\" --device-os 12        |\n",
            "|       Google Pixel 5a 5G      | Android 12 |  Google  |  Phone  |    qualcomm-snapdragon-765g, sm7250   |       --device \"Google Pixel 5a 5G\" --device-os 12      |\n",
            "|         Google Pixel 6        | Android 12 |  Google  |  Phone  |             google-tensor             |         --device \"Google Pixel 6\" --device-os 12        |\n",
            "|     Samsung Galaxy A53 5G     | Android 12 | Samsung  |  Phone  |          samsung-exynos-1280          |     --device \"Samsung Galaxy A53 5G\" --device-os 12     |\n",
            "|     Samsung Galaxy A73 5G     | Android 12 | Samsung  |  Phone  |    qualcomm-snapdragon-778g, sm7325   |     --device \"Samsung Galaxy A73 5G\" --device-os 12     |\n",
            "|       RB3 Gen 2 (Proxy)       | Android 12 | Qualcomm |   Iot   |            qualcomm-qcs6490           |       --device \"RB3 Gen 2 (Proxy)\" --device-os 12       |\n",
            "|        QCS6490 (Proxy)        | Android 12 | Qualcomm |   Iot   |            qualcomm-qcs6490           |        --device \"QCS6490 (Proxy)\" --device-os 12        |\n",
            "|          RB5 (Proxy)          | Android 12 | Qualcomm |   Iot   |            qualcomm-qcs8250           |          --device \"RB5 (Proxy)\" --device-os 12          |\n",
            "|        QCS8250 (Proxy)        | Android 12 | Qualcomm |   Iot   |            qualcomm-qcs8250           |        --device \"QCS8250 (Proxy)\" --device-os 12        |\n",
            "|        QCS8550 (Proxy)        | Android 12 | Qualcomm |   Iot   |            qualcomm-qcs8550           |        --device \"QCS8550 (Proxy)\" --device-os 12        |\n",
            "|  Samsung Galaxy S21 (Family)  | Android 12 | Samsung  |  Phone  |    qualcomm-snapdragon-888, sm8350    |  --device \"Samsung Galaxy S21 (Family)\" --device-os 12  |\n",
            "|       Samsung Galaxy S21      | Android 12 | Samsung  |  Phone  |    qualcomm-snapdragon-888, sm8350    |       --device \"Samsung Galaxy S21\" --device-os 12      |\n",
            "|    Samsung Galaxy S21 Ultra   | Android 12 | Samsung  |  Phone  |    qualcomm-snapdragon-888, sm8350    |    --device \"Samsung Galaxy S21 Ultra\" --device-os 12   |\n",
            "|  Samsung Galaxy S22 (Family)  | Android 12 | Samsung  |  Phone  |   qualcomm-snapdragon-8gen1, sm8450   |  --device \"Samsung Galaxy S22 (Family)\" --device-os 12  |\n",
            "|  Samsung Galaxy S22 Ultra 5G  | Android 12 | Samsung  |  Phone  |   qualcomm-snapdragon-8gen1, sm8450   |  --device \"Samsung Galaxy S22 Ultra 5G\" --device-os 12  |\n",
            "|     Samsung Galaxy S22 5G     | Android 12 | Samsung  |  Phone  |   qualcomm-snapdragon-8gen1, sm8450   |     --device \"Samsung Galaxy S22 5G\" --device-os 12     |\n",
            "|     Samsung Galaxy S22+ 5G    | Android 12 | Samsung  |  Phone  |   qualcomm-snapdragon-8gen1, sm8450   |     --device \"Samsung Galaxy S22+ 5G\" --device-os 12    |\n",
            "|     Samsung Galaxy Tab S8     | Android 12 | Samsung  |  Tablet |   qualcomm-snapdragon-8gen1, sm8450   |     --device \"Samsung Galaxy Tab S8\" --device-os 12     |\n",
            "|       Xiaomi 12 (Family)      | Android 12 |  Xiaomi  |  Phone  |   qualcomm-snapdragon-8gen1, sm8450   |       --device \"Xiaomi 12 (Family)\" --device-os 12      |\n",
            "|           Xiaomi 12           | Android 12 |  Xiaomi  |  Phone  |   qualcomm-snapdragon-8gen1, sm8450   |           --device \"Xiaomi 12\" --device-os 12           |\n",
            "|         Xiaomi 12 Pro         | Android 12 |  Xiaomi  |  Phone  |   qualcomm-snapdragon-8gen1, sm8450   |         --device \"Xiaomi 12 Pro\" --device-os 12         |\n",
            "|    Google Pixel 6 (Family)    | Android 13 |  Google  |  Phone  |             google-tensor             |    --device \"Google Pixel 6 (Family)\" --device-os 13    |\n",
            "|         Google Pixel 6        | Android 13 |  Google  |  Phone  |             google-tensor             |         --device \"Google Pixel 6\" --device-os 13        |\n",
            "|        Google Pixel 6a        | Android 13 |  Google  |  Phone  |             google-tensor             |        --device \"Google Pixel 6a\" --device-os 13        |\n",
            "|    Google Pixel 7 (Family)    | Android 13 |  Google  |  Phone  |            google-tensor-g2           |    --device \"Google Pixel 7 (Family)\" --device-os 13    |\n",
            "|         Google Pixel 7        | Android 13 |  Google  |  Phone  |            google-tensor-g2           |         --device \"Google Pixel 7\" --device-os 13        |\n",
            "|       Google Pixel 7 Pro      | Android 13 |  Google  |  Phone  |            google-tensor-g2           |       --device \"Google Pixel 7 Pro\" --device-os 13      |\n",
            "|     Samsung Galaxy A14 5G     | Android 13 | Samsung  |  Phone  |          samsung-exynos-1330          |     --device \"Samsung Galaxy A14 5G\" --device-os 13     |\n",
            "|     Samsung Galaxy S22 5G     | Android 13 | Samsung  |  Phone  |   qualcomm-snapdragon-8gen1, sm8450   |     --device \"Samsung Galaxy S22 5G\" --device-os 13     |\n",
            "|        QCS8450 (Proxy)        | Android 13 | Qualcomm |    Xr   |            qualcomm-qcs8450           |        --device \"QCS8450 (Proxy)\" --device-os 13        |\n",
            "|       XR2 Gen 2 (Proxy)       | Android 13 | Qualcomm |    Xr   |            qualcomm-qcs8450           |       --device \"XR2 Gen 2 (Proxy)\" --device-os 13       |\n",
            "|  Samsung Galaxy S23 (Family)  | Android 13 | Samsung  |  Phone  |   qualcomm-snapdragon-8gen2, sm8550   |  --device \"Samsung Galaxy S23 (Family)\" --device-os 13  |\n",
            "|         SA8650 (Proxy)        | Android 13 | Qualcomm |   Auto  |            qualcomm-sa8650p           |         --device \"SA8650 (Proxy)\" --device-os 13        |\n",
            "|         SA8775 (Proxy)        | Android 13 | Qualcomm |   Auto  |            qualcomm-sa8775p           |         --device \"SA8775 (Proxy)\" --device-os 13        |\n",
            "|         SA8255 (Proxy)        | Android 13 | Qualcomm |   Auto  |            qualcomm-sa8255p           |         --device \"SA8255 (Proxy)\" --device-os 13        |\n",
            "|       Samsung Galaxy S23      | Android 13 | Samsung  |  Phone  |   qualcomm-snapdragon-8gen2, sm8550   |       --device \"Samsung Galaxy S23\" --device-os 13      |\n",
            "|      Samsung Galaxy S23+      | Android 13 | Samsung  |  Phone  |   qualcomm-snapdragon-8gen2, sm8550   |      --device \"Samsung Galaxy S23+\" --device-os 13      |\n",
            "|    Samsung Galaxy S23 Ultra   | Android 13 | Samsung  |  Phone  |   qualcomm-snapdragon-8gen2, sm8550   |    --device \"Samsung Galaxy S23 Ultra\" --device-os 13   |\n",
            "|         Google Pixel 7        | Android 14 |  Google  |  Phone  |            google-tensor-g2           |         --device \"Google Pixel 7\" --device-os 14        |\n",
            "|    Google Pixel 8 (Family)    | Android 14 |  Google  |  Phone  |            google-tensor-g3           |    --device \"Google Pixel 8 (Family)\" --device-os 14    |\n",
            "|         Google Pixel 8        | Android 14 |  Google  |  Phone  |            google-tensor-g3           |         --device \"Google Pixel 8\" --device-os 14        |\n",
            "|       Google Pixel 8 Pro      | Android 14 |  Google  |  Phone  |            google-tensor-g3           |       --device \"Google Pixel 8 Pro\" --device-os 14      |\n",
            "|  Samsung Galaxy S24 (Family)  | Android 14 | Samsung  |  Phone  |   qualcomm-snapdragon-8gen3, sm8650   |  --device \"Samsung Galaxy S24 (Family)\" --device-os 14  |\n",
            "|       Samsung Galaxy S24      | Android 14 | Samsung  |  Phone  |   qualcomm-snapdragon-8gen3, sm8650   |       --device \"Samsung Galaxy S24\" --device-os 14      |\n",
            "|    Samsung Galaxy S24 Ultra   | Android 14 | Samsung  |  Phone  |   qualcomm-snapdragon-8gen3, sm8650   |    --device \"Samsung Galaxy S24 Ultra\" --device-os 14   |\n",
            "|      Samsung Galaxy S24+      | Android 14 | Samsung  |  Phone  |   qualcomm-snapdragon-8gen3, sm8650   |      --device \"Samsung Galaxy S24+\" --device-os 14      |\n",
            "|    Snapdragon 8cx Gen 3 CRD   | Windows 11 | Qualcomm | Compute |  qualcomm-snapdragon-8cxgen3, sc8280x |    --device \"Snapdragon 8cx Gen 3 CRD\" --device-os 11   |\n",
            "|     Snapdragon X Elite CRD    | Windows 11 | Qualcomm | Compute | qualcomm-snapdragon-x-elite, sc8380xp |     --device \"Snapdragon X Elite CRD\" --device-os 11    |\n",
            "+-------------------------------+------------+----------+---------+---------------------------------------+---------------------------------------------------------+\n"
          ]
        }
      ]
    },
    {
      "cell_type": "code",
      "source": [
        "pip install \"qai-hub[torch]\""
      ],
      "metadata": {
        "colab": {
          "base_uri": "https://localhost:8080/"
        },
        "id": "7CF5wRieJ8c9",
        "outputId": "2ce28399-1ec5-48fc-abcb-91c731aa9bb8"
      },
      "execution_count": null,
      "outputs": [
        {
          "output_type": "stream",
          "name": "stdout",
          "text": [
            "Requirement already satisfied: qai-hub[torch] in /usr/local/lib/python3.10/dist-packages (0.14.1)\n",
            "Requirement already satisfied: backoff>=2.2 in /usr/local/lib/python3.10/dist-packages (from qai-hub[torch]) (2.2.1)\n",
            "Requirement already satisfied: deprecation in /usr/local/lib/python3.10/dist-packages (from qai-hub[torch]) (2.1.0)\n",
            "Requirement already satisfied: h5py<4,>=2.10.0 in /usr/local/lib/python3.10/dist-packages (from qai-hub[torch]) (3.11.0)\n",
            "Requirement already satisfied: numpy<2,>=1.22.0 in /usr/local/lib/python3.10/dist-packages (from qai-hub[torch]) (1.23.1)\n",
            "Requirement already satisfied: packaging>=20.0 in /usr/local/lib/python3.10/dist-packages (from qai-hub[torch]) (23.2)\n",
            "Requirement already satisfied: prettytable>=3.9.0 in /usr/local/lib/python3.10/dist-packages (from qai-hub[torch]) (3.9.0)\n",
            "Requirement already satisfied: protobuf<4,>=3.20 in /usr/local/lib/python3.10/dist-packages (from qai-hub[torch]) (3.20.2)\n",
            "Requirement already satisfied: requests in /usr/local/lib/python3.10/dist-packages (from qai-hub[torch]) (2.32.3)\n",
            "Requirement already satisfied: requests-toolbelt in /usr/local/lib/python3.10/dist-packages (from qai-hub[torch]) (1.0.0)\n",
            "Requirement already satisfied: semver>=3.0 in /usr/local/lib/python3.10/dist-packages (from qai-hub[torch]) (3.0.2)\n",
            "Requirement already satisfied: tqdm in /usr/local/lib/python3.10/dist-packages (from qai-hub[torch]) (4.66.2)\n",
            "Requirement already satisfied: torch>=1.13 in /usr/local/lib/python3.10/dist-packages (from qai-hub[torch]) (1.13.1)\n",
            "Requirement already satisfied: torchvision>=0.14 in /usr/local/lib/python3.10/dist-packages (from qai-hub[torch]) (0.14.1)\n",
            "Requirement already satisfied: wcwidth in /usr/local/lib/python3.10/dist-packages (from prettytable>=3.9.0->qai-hub[torch]) (0.2.13)\n",
            "Requirement already satisfied: typing-extensions in /usr/local/lib/python3.10/dist-packages (from torch>=1.13->qai-hub[torch]) (4.5.0)\n",
            "Requirement already satisfied: nvidia-cuda-runtime-cu11==11.7.99 in /usr/local/lib/python3.10/dist-packages (from torch>=1.13->qai-hub[torch]) (11.7.99)\n",
            "Requirement already satisfied: nvidia-cudnn-cu11==8.5.0.96 in /usr/local/lib/python3.10/dist-packages (from torch>=1.13->qai-hub[torch]) (8.5.0.96)\n",
            "Requirement already satisfied: nvidia-cublas-cu11==11.10.3.66 in /usr/local/lib/python3.10/dist-packages (from torch>=1.13->qai-hub[torch]) (11.10.3.66)\n",
            "Requirement already satisfied: nvidia-cuda-nvrtc-cu11==11.7.99 in /usr/local/lib/python3.10/dist-packages (from torch>=1.13->qai-hub[torch]) (11.7.99)\n",
            "Requirement already satisfied: setuptools in /usr/local/lib/python3.10/dist-packages (from nvidia-cublas-cu11==11.10.3.66->torch>=1.13->qai-hub[torch]) (71.0.4)\n",
            "Requirement already satisfied: wheel in /usr/local/lib/python3.10/dist-packages (from nvidia-cublas-cu11==11.10.3.66->torch>=1.13->qai-hub[torch]) (0.44.0)\n",
            "Requirement already satisfied: pillow!=8.3.*,>=5.3.0 in /usr/local/lib/python3.10/dist-packages (from torchvision>=0.14->qai-hub[torch]) (10.0.1)\n",
            "Requirement already satisfied: charset-normalizer<4,>=2 in /usr/local/lib/python3.10/dist-packages (from requests->qai-hub[torch]) (3.3.2)\n",
            "Requirement already satisfied: idna<4,>=2.5 in /usr/local/lib/python3.10/dist-packages (from requests->qai-hub[torch]) (3.7)\n",
            "Requirement already satisfied: urllib3<3,>=1.21.1 in /usr/local/lib/python3.10/dist-packages (from requests->qai-hub[torch]) (1.26.18)\n",
            "Requirement already satisfied: certifi>=2017.4.17 in /usr/local/lib/python3.10/dist-packages (from requests->qai-hub[torch]) (2024.7.4)\n"
          ]
        }
      ]
    },
    {
      "cell_type": "code",
      "source": [
        "import qai_hub as hub\n",
        "import torch\n",
        "from torchvision.models import mobilenet_v2\n",
        "import requests\n",
        "import numpy as np\n",
        "from PIL import Image\n",
        "\n",
        "# Using pre-trained MobileNet\n",
        "torch_model = mobilenet_v2(pretrained=True)\n",
        "torch_model.eval()\n",
        "\n",
        "# Step 1: Trace model\n",
        "input_shape = (1, 3, 224, 224)\n",
        "example_input = torch.rand(input_shape)\n",
        "traced_torch_model = torch.jit.trace(torch_model, example_input)\n",
        "\n",
        "# Step 2: Compile model for Xiaomi 12\n",
        "compile_job = hub.submit_compile_job(\n",
        "    model=traced_torch_model,\n",
        "    device=hub.Device(\"Xiaomi 12\"),\n",
        "    input_specs=dict(image=input_shape),\n",
        ")\n",
        "\n",
        "# Step 3: Profile on cloud-hosted device (Xiaomi 12)\n",
        "target_model = compile_job.get_target_model()\n",
        "profile_job = hub.submit_profile_job(\n",
        "    model=target_model,\n",
        "    device=hub.Device(\"Xiaomi 12\"),\n",
        ")\n",
        "\n",
        "# Step 4: Run inference on cloud-hosted device\n",
        "sample_image_url = (\n",
        "    \"https://qaihub-public-assets.s3.us-west-2.amazonaws.com/apidoc/input_image1.jpg\"\n",
        ")\n",
        "response = requests.get(sample_image_url, stream=True)\n",
        "response.raw.decode_content = True\n",
        "image = Image.open(response.raw).resize((224, 224))\n",
        "input_array = np.expand_dims(\n",
        "    np.transpose(np.array(image, dtype=np.float32) / 255.0, (2, 0, 1)), axis=0\n",
        ")\n",
        "\n",
        "# Run inference using the on-device model on the input image\n",
        "inference_job = hub.submit_inference_job(\n",
        "    model=target_model,\n",
        "    device=hub.Device(\"Xiaomi 12\"),\n",
        "    inputs=dict(image=[input_array]),\n",
        ")\n",
        "on_device_output = inference_job.download_output_data()\n",
        "\n",
        "# Step 5: Post-processing the on-device output\n",
        "output_name = list(on_device_output.keys())[0]\n",
        "out = on_device_output[output_name][0]\n",
        "on_device_probabilities = np.exp(out) / np.sum(np.exp(out), axis=1)\n",
        "\n",
        "# Read the class labels for imagenet\n",
        "sample_classes = \"https://qaihub-public-assets.s3.us-west-2.amazonaws.com/apidoc/imagenet_classes.txt\"\n",
        "response = requests.get(sample_classes, stream=True)\n",
        "response.raw.decode_content = True\n",
        "categories = [str(s.strip()) for s in response.raw]\n",
        "\n",
        "# Print top five predictions for the on-device model\n",
        "print(\"Top-5 On-Device predictions:\")\n",
        "top5_classes = np.argsort(on_device_probabilities[0], axis=0)[-5:]\n",
        "for c in reversed(top5_classes):\n",
        "    print(f\"{c} {categories[c]:20s} {on_device_probabilities[0][c]:>6.1%}\")\n",
        "\n",
        "# Step 6: Download model\n",
        "target_model = compile_job.get_target_model()\n",
        "target_model.download(\"mobilenet_v2.tflite\")"
      ],
      "metadata": {
        "colab": {
          "base_uri": "https://localhost:8080/",
          "height": 455
        },
        "id": "2UOYOH8rL-rh",
        "outputId": "93d3043b-4e58-46b8-b389-9a457c292553"
      },
      "execution_count": 16,
      "outputs": [
        {
          "output_type": "stream",
          "name": "stderr",
          "text": [
            "Uploading model: 100%|\u001b[34m██████████\u001b[0m| 13.9M/13.9M [00:00<00:00, 16.7MB/s]\n"
          ]
        },
        {
          "output_type": "stream",
          "name": "stdout",
          "text": [
            "Scheduled compile job (jogk0lnw5) successfully. To see the status and results:\n",
            "    https://app.aihub.qualcomm.com/jobs/jogk0lnw5/\n",
            "\n",
            "Waiting for compile job (jogk0lnw5) completion. Type Ctrl+C to stop waiting at any time.\n",
            "    ✅ SUCCESS                          \u0007\n",
            "Scheduled profiling job (jn5q17kng) successfully. To see the status and results:\n",
            "    https://app.aihub.qualcomm.com/jobs/jn5q17kng/\n",
            "\n"
          ]
        },
        {
          "output_type": "stream",
          "name": "stderr",
          "text": [
            "Uploading dataset: 100%|\u001b[34m██████████\u001b[0m| 150k/150k [00:00<00:00, 434kB/s]\n"
          ]
        },
        {
          "output_type": "stream",
          "name": "stdout",
          "text": [
            "Scheduled inference job (j1gl80zjp) successfully. To see the status and results:\n",
            "    https://app.aihub.qualcomm.com/jobs/j1gl80zjp/\n",
            "\n",
            "Waiting for inference job (j1gl80zjp) completion. Type Ctrl+C to stop waiting at any time.\n",
            "    ✅ SUCCESS                          \u0007\n"
          ]
        },
        {
          "output_type": "stream",
          "name": "stderr",
          "text": [
            "dataset-dv958vlz9.h5: 100%|\u001b[34m██████████\u001b[0m| 14.5k/14.5k [00:00<00:00, 4.82MB/s]\n"
          ]
        },
        {
          "output_type": "stream",
          "name": "stdout",
          "text": [
            "Top-5 On-Device predictions:\n",
            "968 b'cup'                70.9%\n",
            "504 b'coffee mug'         16.6%\n",
            "967 b'espresso'            7.9%\n",
            "809 b'soup bowl'           1.4%\n",
            "659 b'mixing bowl'         1.3%\n"
          ]
        },
        {
          "output_type": "stream",
          "name": "stderr",
          "text": [
            "job_jogk0lnw5_optimized_tflite_mkngo1w0q.tflite: 100%|\u001b[34m██████████\u001b[0m| 13.3M/13.3M [00:00<00:00, 26.1MB/s]\n"
          ]
        },
        {
          "output_type": "execute_result",
          "data": {
            "text/plain": [
              "'mobilenet_v2.tflite'"
            ],
            "application/vnd.google.colaboratory.intrinsic+json": {
              "type": "string"
            }
          },
          "metadata": {},
          "execution_count": 16
        }
      ]
    }
  ]
}